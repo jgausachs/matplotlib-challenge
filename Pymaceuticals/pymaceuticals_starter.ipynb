{
 "cells": [
  {
   "cell_type": "markdown",
   "metadata": {},
   "source": [
    "## Observations and Insights "
   ]
  },
  {
   "cell_type": "markdown",
   "metadata": {},
   "source": []
  },
  {
   "cell_type": "code",
   "execution_count": 39,
   "metadata": {},
   "outputs": [],
   "source": [
    "# Dependencies and Setup\n",
    "import pandas as pd\n",
    "import matplotlib.pyplot as plt\n",
    "import scipy.stats as st\n",
    "import numpy as np\n",
    "\n",
    "# Study data files\n",
    "mouse_metadata_path = \"data/Mouse_metadata.csv\"\n",
    "study_results_path = \"data/Study_results.csv\"\n",
    "\n",
    "# Read the mouse data and the study results\n",
    "mouse_metadata = pd.read_csv(mouse_metadata_path)\n",
    "study_results = pd.read_csv(study_results_path)"
   ]
  },
  {
   "cell_type": "code",
   "execution_count": 3,
   "metadata": {},
   "outputs": [
    {
     "data": {
      "text/html": [
       "<div>\n",
       "<style scoped>\n",
       "    .dataframe tbody tr th:only-of-type {\n",
       "        vertical-align: middle;\n",
       "    }\n",
       "\n",
       "    .dataframe tbody tr th {\n",
       "        vertical-align: top;\n",
       "    }\n",
       "\n",
       "    .dataframe thead th {\n",
       "        text-align: right;\n",
       "    }\n",
       "</style>\n",
       "<table border=\"1\" class=\"dataframe\">\n",
       "  <thead>\n",
       "    <tr style=\"text-align: right;\">\n",
       "      <th></th>\n",
       "      <th>Mouse ID</th>\n",
       "      <th>Drug Regimen</th>\n",
       "      <th>Sex</th>\n",
       "      <th>Age_months</th>\n",
       "      <th>Weight (g)</th>\n",
       "    </tr>\n",
       "  </thead>\n",
       "  <tbody>\n",
       "    <tr>\n",
       "      <th>0</th>\n",
       "      <td>k403</td>\n",
       "      <td>Ramicane</td>\n",
       "      <td>Male</td>\n",
       "      <td>21</td>\n",
       "      <td>16</td>\n",
       "    </tr>\n",
       "    <tr>\n",
       "      <th>1</th>\n",
       "      <td>s185</td>\n",
       "      <td>Capomulin</td>\n",
       "      <td>Female</td>\n",
       "      <td>3</td>\n",
       "      <td>17</td>\n",
       "    </tr>\n",
       "    <tr>\n",
       "      <th>2</th>\n",
       "      <td>x401</td>\n",
       "      <td>Capomulin</td>\n",
       "      <td>Female</td>\n",
       "      <td>16</td>\n",
       "      <td>15</td>\n",
       "    </tr>\n",
       "    <tr>\n",
       "      <th>3</th>\n",
       "      <td>m601</td>\n",
       "      <td>Capomulin</td>\n",
       "      <td>Male</td>\n",
       "      <td>22</td>\n",
       "      <td>17</td>\n",
       "    </tr>\n",
       "    <tr>\n",
       "      <th>4</th>\n",
       "      <td>g791</td>\n",
       "      <td>Ramicane</td>\n",
       "      <td>Male</td>\n",
       "      <td>11</td>\n",
       "      <td>16</td>\n",
       "    </tr>\n",
       "  </tbody>\n",
       "</table>\n",
       "</div>"
      ],
      "text/plain": [
       "  Mouse ID Drug Regimen     Sex  Age_months  Weight (g)\n",
       "0     k403     Ramicane    Male          21          16\n",
       "1     s185    Capomulin  Female           3          17\n",
       "2     x401    Capomulin  Female          16          15\n",
       "3     m601    Capomulin    Male          22          17\n",
       "4     g791     Ramicane    Male          11          16"
      ]
     },
     "execution_count": 3,
     "metadata": {},
     "output_type": "execute_result"
    }
   ],
   "source": [
    "# Print mouse_metadata to understand format\n",
    "mouse_metadata.head()"
   ]
  },
  {
   "cell_type": "code",
   "execution_count": 4,
   "metadata": {},
   "outputs": [
    {
     "data": {
      "text/html": [
       "<div>\n",
       "<style scoped>\n",
       "    .dataframe tbody tr th:only-of-type {\n",
       "        vertical-align: middle;\n",
       "    }\n",
       "\n",
       "    .dataframe tbody tr th {\n",
       "        vertical-align: top;\n",
       "    }\n",
       "\n",
       "    .dataframe thead th {\n",
       "        text-align: right;\n",
       "    }\n",
       "</style>\n",
       "<table border=\"1\" class=\"dataframe\">\n",
       "  <thead>\n",
       "    <tr style=\"text-align: right;\">\n",
       "      <th></th>\n",
       "      <th>Mouse ID</th>\n",
       "      <th>Timepoint</th>\n",
       "      <th>Tumour Volume (mm3)</th>\n",
       "      <th>Metastatic Sites</th>\n",
       "    </tr>\n",
       "  </thead>\n",
       "  <tbody>\n",
       "    <tr>\n",
       "      <th>0</th>\n",
       "      <td>b128</td>\n",
       "      <td>0</td>\n",
       "      <td>45.0</td>\n",
       "      <td>0</td>\n",
       "    </tr>\n",
       "    <tr>\n",
       "      <th>1</th>\n",
       "      <td>f932</td>\n",
       "      <td>0</td>\n",
       "      <td>45.0</td>\n",
       "      <td>0</td>\n",
       "    </tr>\n",
       "    <tr>\n",
       "      <th>2</th>\n",
       "      <td>g107</td>\n",
       "      <td>0</td>\n",
       "      <td>45.0</td>\n",
       "      <td>0</td>\n",
       "    </tr>\n",
       "    <tr>\n",
       "      <th>3</th>\n",
       "      <td>a457</td>\n",
       "      <td>0</td>\n",
       "      <td>45.0</td>\n",
       "      <td>0</td>\n",
       "    </tr>\n",
       "    <tr>\n",
       "      <th>4</th>\n",
       "      <td>c819</td>\n",
       "      <td>0</td>\n",
       "      <td>45.0</td>\n",
       "      <td>0</td>\n",
       "    </tr>\n",
       "  </tbody>\n",
       "</table>\n",
       "</div>"
      ],
      "text/plain": [
       "  Mouse ID  Timepoint  Tumour Volume (mm3)  Metastatic Sites\n",
       "0     b128          0                 45.0                 0\n",
       "1     f932          0                 45.0                 0\n",
       "2     g107          0                 45.0                 0\n",
       "3     a457          0                 45.0                 0\n",
       "4     c819          0                 45.0                 0"
      ]
     },
     "execution_count": 4,
     "metadata": {},
     "output_type": "execute_result"
    }
   ],
   "source": [
    "# Print study_results to understand format\n",
    "study_results.head()"
   ]
  },
  {
   "cell_type": "code",
   "execution_count": 5,
   "metadata": {},
   "outputs": [
    {
     "data": {
      "text/html": [
       "<div>\n",
       "<style scoped>\n",
       "    .dataframe tbody tr th:only-of-type {\n",
       "        vertical-align: middle;\n",
       "    }\n",
       "\n",
       "    .dataframe tbody tr th {\n",
       "        vertical-align: top;\n",
       "    }\n",
       "\n",
       "    .dataframe thead th {\n",
       "        text-align: right;\n",
       "    }\n",
       "</style>\n",
       "<table border=\"1\" class=\"dataframe\">\n",
       "  <thead>\n",
       "    <tr style=\"text-align: right;\">\n",
       "      <th></th>\n",
       "      <th>Mouse ID</th>\n",
       "      <th>Drug Regimen</th>\n",
       "      <th>Sex</th>\n",
       "      <th>Age_months</th>\n",
       "      <th>Weight (g)</th>\n",
       "      <th>Timepoint</th>\n",
       "      <th>Tumour Volume (mm3)</th>\n",
       "      <th>Metastatic Sites</th>\n",
       "    </tr>\n",
       "  </thead>\n",
       "  <tbody>\n",
       "    <tr>\n",
       "      <th>0</th>\n",
       "      <td>k403</td>\n",
       "      <td>Ramicane</td>\n",
       "      <td>Male</td>\n",
       "      <td>21</td>\n",
       "      <td>16</td>\n",
       "      <td>0</td>\n",
       "      <td>45.000000</td>\n",
       "      <td>0</td>\n",
       "    </tr>\n",
       "    <tr>\n",
       "      <th>1</th>\n",
       "      <td>k403</td>\n",
       "      <td>Ramicane</td>\n",
       "      <td>Male</td>\n",
       "      <td>21</td>\n",
       "      <td>16</td>\n",
       "      <td>5</td>\n",
       "      <td>38.825898</td>\n",
       "      <td>0</td>\n",
       "    </tr>\n",
       "    <tr>\n",
       "      <th>2</th>\n",
       "      <td>k403</td>\n",
       "      <td>Ramicane</td>\n",
       "      <td>Male</td>\n",
       "      <td>21</td>\n",
       "      <td>16</td>\n",
       "      <td>10</td>\n",
       "      <td>35.014271</td>\n",
       "      <td>1</td>\n",
       "    </tr>\n",
       "    <tr>\n",
       "      <th>3</th>\n",
       "      <td>k403</td>\n",
       "      <td>Ramicane</td>\n",
       "      <td>Male</td>\n",
       "      <td>21</td>\n",
       "      <td>16</td>\n",
       "      <td>15</td>\n",
       "      <td>34.223992</td>\n",
       "      <td>1</td>\n",
       "    </tr>\n",
       "    <tr>\n",
       "      <th>4</th>\n",
       "      <td>k403</td>\n",
       "      <td>Ramicane</td>\n",
       "      <td>Male</td>\n",
       "      <td>21</td>\n",
       "      <td>16</td>\n",
       "      <td>20</td>\n",
       "      <td>32.997729</td>\n",
       "      <td>1</td>\n",
       "    </tr>\n",
       "    <tr>\n",
       "      <th>...</th>\n",
       "      <td>...</td>\n",
       "      <td>...</td>\n",
       "      <td>...</td>\n",
       "      <td>...</td>\n",
       "      <td>...</td>\n",
       "      <td>...</td>\n",
       "      <td>...</td>\n",
       "      <td>...</td>\n",
       "    </tr>\n",
       "    <tr>\n",
       "      <th>1888</th>\n",
       "      <td>z969</td>\n",
       "      <td>Naftisol</td>\n",
       "      <td>Male</td>\n",
       "      <td>9</td>\n",
       "      <td>30</td>\n",
       "      <td>25</td>\n",
       "      <td>63.145652</td>\n",
       "      <td>2</td>\n",
       "    </tr>\n",
       "    <tr>\n",
       "      <th>1889</th>\n",
       "      <td>z969</td>\n",
       "      <td>Naftisol</td>\n",
       "      <td>Male</td>\n",
       "      <td>9</td>\n",
       "      <td>30</td>\n",
       "      <td>30</td>\n",
       "      <td>65.841013</td>\n",
       "      <td>3</td>\n",
       "    </tr>\n",
       "    <tr>\n",
       "      <th>1890</th>\n",
       "      <td>z969</td>\n",
       "      <td>Naftisol</td>\n",
       "      <td>Male</td>\n",
       "      <td>9</td>\n",
       "      <td>30</td>\n",
       "      <td>35</td>\n",
       "      <td>69.176246</td>\n",
       "      <td>4</td>\n",
       "    </tr>\n",
       "    <tr>\n",
       "      <th>1891</th>\n",
       "      <td>z969</td>\n",
       "      <td>Naftisol</td>\n",
       "      <td>Male</td>\n",
       "      <td>9</td>\n",
       "      <td>30</td>\n",
       "      <td>40</td>\n",
       "      <td>70.314904</td>\n",
       "      <td>4</td>\n",
       "    </tr>\n",
       "    <tr>\n",
       "      <th>1892</th>\n",
       "      <td>z969</td>\n",
       "      <td>Naftisol</td>\n",
       "      <td>Male</td>\n",
       "      <td>9</td>\n",
       "      <td>30</td>\n",
       "      <td>45</td>\n",
       "      <td>73.867845</td>\n",
       "      <td>4</td>\n",
       "    </tr>\n",
       "  </tbody>\n",
       "</table>\n",
       "<p>1893 rows × 8 columns</p>\n",
       "</div>"
      ],
      "text/plain": [
       "     Mouse ID Drug Regimen   Sex  Age_months  Weight (g)  Timepoint  \\\n",
       "0        k403     Ramicane  Male          21          16          0   \n",
       "1        k403     Ramicane  Male          21          16          5   \n",
       "2        k403     Ramicane  Male          21          16         10   \n",
       "3        k403     Ramicane  Male          21          16         15   \n",
       "4        k403     Ramicane  Male          21          16         20   \n",
       "...       ...          ...   ...         ...         ...        ...   \n",
       "1888     z969     Naftisol  Male           9          30         25   \n",
       "1889     z969     Naftisol  Male           9          30         30   \n",
       "1890     z969     Naftisol  Male           9          30         35   \n",
       "1891     z969     Naftisol  Male           9          30         40   \n",
       "1892     z969     Naftisol  Male           9          30         45   \n",
       "\n",
       "      Tumour Volume (mm3)  Metastatic Sites  \n",
       "0               45.000000                 0  \n",
       "1               38.825898                 0  \n",
       "2               35.014271                 1  \n",
       "3               34.223992                 1  \n",
       "4               32.997729                 1  \n",
       "...                   ...               ...  \n",
       "1888            63.145652                 2  \n",
       "1889            65.841013                 3  \n",
       "1890            69.176246                 4  \n",
       "1891            70.314904                 4  \n",
       "1892            73.867845                 4  \n",
       "\n",
       "[1893 rows x 8 columns]"
      ]
     },
     "execution_count": 5,
     "metadata": {},
     "output_type": "execute_result"
    }
   ],
   "source": [
    "# Combine the data into a single dataset\n",
    "combined_results_df = pd.merge(mouse_metadata, study_results, on=\"Mouse ID\", how=\"left\")\n",
    "\n",
    "# Display the data table for preview\n",
    "combined_results_df"
   ]
  },
  {
   "cell_type": "code",
   "execution_count": 6,
   "metadata": {},
   "outputs": [
    {
     "name": "stdout",
     "output_type": "stream",
     "text": [
      "Initial dataset contains data from : 249 mice\n"
     ]
    }
   ],
   "source": [
    "# Checking the number of mice\n",
    "number_mice_init = len(combined_results_df[\"Mouse ID\"].unique())\n",
    "print(f\"Initial dataset contains data from : {number_mice_init} mice\")"
   ]
  },
  {
   "cell_type": "code",
   "execution_count": 7,
   "metadata": {},
   "outputs": [
    {
     "name": "stdout",
     "output_type": "stream",
     "text": [
      "Duplicate id for the following 'Mouse ID' and 'Timepoint' : g989\n"
     ]
    }
   ],
   "source": [
    "# Fetching the duplicate mice by ID number that shows up for Mouse ID and Timepoint\n",
    "duplicate_mice_df = combined_results_df[combined_results_df.duplicated([\"Mouse ID\", \"Timepoint\"])].set_index(\"Mouse ID\")\n",
    "duplicate_ID = duplicate_mice_df.index[0]\n",
    "print(f\"Duplicate id for the following 'Mouse ID' and 'Timepoint' : {duplicate_ID}\")"
   ]
  },
  {
   "cell_type": "code",
   "execution_count": 8,
   "metadata": {},
   "outputs": [
    {
     "data": {
      "text/html": [
       "<div>\n",
       "<style scoped>\n",
       "    .dataframe tbody tr th:only-of-type {\n",
       "        vertical-align: middle;\n",
       "    }\n",
       "\n",
       "    .dataframe tbody tr th {\n",
       "        vertical-align: top;\n",
       "    }\n",
       "\n",
       "    .dataframe thead th {\n",
       "        text-align: right;\n",
       "    }\n",
       "</style>\n",
       "<table border=\"1\" class=\"dataframe\">\n",
       "  <thead>\n",
       "    <tr style=\"text-align: right;\">\n",
       "      <th></th>\n",
       "      <th>Drug Regimen</th>\n",
       "      <th>Sex</th>\n",
       "      <th>Age_months</th>\n",
       "      <th>Weight (g)</th>\n",
       "      <th>Timepoint</th>\n",
       "      <th>Tumour Volume (mm3)</th>\n",
       "      <th>Metastatic Sites</th>\n",
       "    </tr>\n",
       "    <tr>\n",
       "      <th>Mouse ID</th>\n",
       "      <th></th>\n",
       "      <th></th>\n",
       "      <th></th>\n",
       "      <th></th>\n",
       "      <th></th>\n",
       "      <th></th>\n",
       "      <th></th>\n",
       "    </tr>\n",
       "  </thead>\n",
       "  <tbody>\n",
       "    <tr>\n",
       "      <th>g989</th>\n",
       "      <td>Propriva</td>\n",
       "      <td>Female</td>\n",
       "      <td>21</td>\n",
       "      <td>26</td>\n",
       "      <td>0</td>\n",
       "      <td>45.000000</td>\n",
       "      <td>0</td>\n",
       "    </tr>\n",
       "    <tr>\n",
       "      <th>g989</th>\n",
       "      <td>Propriva</td>\n",
       "      <td>Female</td>\n",
       "      <td>21</td>\n",
       "      <td>26</td>\n",
       "      <td>0</td>\n",
       "      <td>45.000000</td>\n",
       "      <td>0</td>\n",
       "    </tr>\n",
       "    <tr>\n",
       "      <th>g989</th>\n",
       "      <td>Propriva</td>\n",
       "      <td>Female</td>\n",
       "      <td>21</td>\n",
       "      <td>26</td>\n",
       "      <td>5</td>\n",
       "      <td>48.786801</td>\n",
       "      <td>0</td>\n",
       "    </tr>\n",
       "    <tr>\n",
       "      <th>g989</th>\n",
       "      <td>Propriva</td>\n",
       "      <td>Female</td>\n",
       "      <td>21</td>\n",
       "      <td>26</td>\n",
       "      <td>5</td>\n",
       "      <td>47.570392</td>\n",
       "      <td>0</td>\n",
       "    </tr>\n",
       "    <tr>\n",
       "      <th>g989</th>\n",
       "      <td>Propriva</td>\n",
       "      <td>Female</td>\n",
       "      <td>21</td>\n",
       "      <td>26</td>\n",
       "      <td>10</td>\n",
       "      <td>51.745156</td>\n",
       "      <td>0</td>\n",
       "    </tr>\n",
       "    <tr>\n",
       "      <th>g989</th>\n",
       "      <td>Propriva</td>\n",
       "      <td>Female</td>\n",
       "      <td>21</td>\n",
       "      <td>26</td>\n",
       "      <td>10</td>\n",
       "      <td>49.880528</td>\n",
       "      <td>0</td>\n",
       "    </tr>\n",
       "    <tr>\n",
       "      <th>g989</th>\n",
       "      <td>Propriva</td>\n",
       "      <td>Female</td>\n",
       "      <td>21</td>\n",
       "      <td>26</td>\n",
       "      <td>15</td>\n",
       "      <td>51.325852</td>\n",
       "      <td>1</td>\n",
       "    </tr>\n",
       "    <tr>\n",
       "      <th>g989</th>\n",
       "      <td>Propriva</td>\n",
       "      <td>Female</td>\n",
       "      <td>21</td>\n",
       "      <td>26</td>\n",
       "      <td>15</td>\n",
       "      <td>53.442020</td>\n",
       "      <td>0</td>\n",
       "    </tr>\n",
       "    <tr>\n",
       "      <th>g989</th>\n",
       "      <td>Propriva</td>\n",
       "      <td>Female</td>\n",
       "      <td>21</td>\n",
       "      <td>26</td>\n",
       "      <td>20</td>\n",
       "      <td>55.326122</td>\n",
       "      <td>1</td>\n",
       "    </tr>\n",
       "    <tr>\n",
       "      <th>g989</th>\n",
       "      <td>Propriva</td>\n",
       "      <td>Female</td>\n",
       "      <td>21</td>\n",
       "      <td>26</td>\n",
       "      <td>20</td>\n",
       "      <td>54.657650</td>\n",
       "      <td>1</td>\n",
       "    </tr>\n",
       "    <tr>\n",
       "      <th>g989</th>\n",
       "      <td>Propriva</td>\n",
       "      <td>Female</td>\n",
       "      <td>21</td>\n",
       "      <td>26</td>\n",
       "      <td>25</td>\n",
       "      <td>56.045564</td>\n",
       "      <td>1</td>\n",
       "    </tr>\n",
       "    <tr>\n",
       "      <th>g989</th>\n",
       "      <td>Propriva</td>\n",
       "      <td>Female</td>\n",
       "      <td>21</td>\n",
       "      <td>26</td>\n",
       "      <td>30</td>\n",
       "      <td>59.082294</td>\n",
       "      <td>1</td>\n",
       "    </tr>\n",
       "    <tr>\n",
       "      <th>g989</th>\n",
       "      <td>Propriva</td>\n",
       "      <td>Female</td>\n",
       "      <td>21</td>\n",
       "      <td>26</td>\n",
       "      <td>35</td>\n",
       "      <td>62.570880</td>\n",
       "      <td>2</td>\n",
       "    </tr>\n",
       "  </tbody>\n",
       "</table>\n",
       "</div>"
      ],
      "text/plain": [
       "         Drug Regimen     Sex  Age_months  Weight (g)  Timepoint  \\\n",
       "Mouse ID                                                           \n",
       "g989         Propriva  Female          21          26          0   \n",
       "g989         Propriva  Female          21          26          0   \n",
       "g989         Propriva  Female          21          26          5   \n",
       "g989         Propriva  Female          21          26          5   \n",
       "g989         Propriva  Female          21          26         10   \n",
       "g989         Propriva  Female          21          26         10   \n",
       "g989         Propriva  Female          21          26         15   \n",
       "g989         Propriva  Female          21          26         15   \n",
       "g989         Propriva  Female          21          26         20   \n",
       "g989         Propriva  Female          21          26         20   \n",
       "g989         Propriva  Female          21          26         25   \n",
       "g989         Propriva  Female          21          26         30   \n",
       "g989         Propriva  Female          21          26         35   \n",
       "\n",
       "          Tumour Volume (mm3)  Metastatic Sites  \n",
       "Mouse ID                                         \n",
       "g989                45.000000                 0  \n",
       "g989                45.000000                 0  \n",
       "g989                48.786801                 0  \n",
       "g989                47.570392                 0  \n",
       "g989                51.745156                 0  \n",
       "g989                49.880528                 0  \n",
       "g989                51.325852                 1  \n",
       "g989                53.442020                 0  \n",
       "g989                55.326122                 1  \n",
       "g989                54.657650                 1  \n",
       "g989                56.045564                 1  \n",
       "g989                59.082294                 1  \n",
       "g989                62.570880                 2  "
      ]
     },
     "execution_count": 8,
     "metadata": {},
     "output_type": "execute_result"
    }
   ],
   "source": [
    "# Obtaining all the data for the duplicate mouse ID\n",
    "combined_results_df.set_index(\"Mouse ID\").loc[duplicate_ID,:]"
   ]
  },
  {
   "cell_type": "code",
   "execution_count": 9,
   "metadata": {},
   "outputs": [
    {
     "data": {
      "text/html": [
       "<div>\n",
       "<style scoped>\n",
       "    .dataframe tbody tr th:only-of-type {\n",
       "        vertical-align: middle;\n",
       "    }\n",
       "\n",
       "    .dataframe tbody tr th {\n",
       "        vertical-align: top;\n",
       "    }\n",
       "\n",
       "    .dataframe thead th {\n",
       "        text-align: right;\n",
       "    }\n",
       "</style>\n",
       "<table border=\"1\" class=\"dataframe\">\n",
       "  <thead>\n",
       "    <tr style=\"text-align: right;\">\n",
       "      <th></th>\n",
       "      <th>Mouse ID</th>\n",
       "      <th>Drug Regimen</th>\n",
       "      <th>Sex</th>\n",
       "      <th>Age_months</th>\n",
       "      <th>Weight (g)</th>\n",
       "      <th>Timepoint</th>\n",
       "      <th>Tumour Volume (mm3)</th>\n",
       "      <th>Metastatic Sites</th>\n",
       "    </tr>\n",
       "  </thead>\n",
       "  <tbody>\n",
       "    <tr>\n",
       "      <th>0</th>\n",
       "      <td>k403</td>\n",
       "      <td>Ramicane</td>\n",
       "      <td>Male</td>\n",
       "      <td>21</td>\n",
       "      <td>16</td>\n",
       "      <td>0</td>\n",
       "      <td>45.000000</td>\n",
       "      <td>0</td>\n",
       "    </tr>\n",
       "    <tr>\n",
       "      <th>1</th>\n",
       "      <td>k403</td>\n",
       "      <td>Ramicane</td>\n",
       "      <td>Male</td>\n",
       "      <td>21</td>\n",
       "      <td>16</td>\n",
       "      <td>5</td>\n",
       "      <td>38.825898</td>\n",
       "      <td>0</td>\n",
       "    </tr>\n",
       "    <tr>\n",
       "      <th>2</th>\n",
       "      <td>k403</td>\n",
       "      <td>Ramicane</td>\n",
       "      <td>Male</td>\n",
       "      <td>21</td>\n",
       "      <td>16</td>\n",
       "      <td>10</td>\n",
       "      <td>35.014271</td>\n",
       "      <td>1</td>\n",
       "    </tr>\n",
       "    <tr>\n",
       "      <th>3</th>\n",
       "      <td>k403</td>\n",
       "      <td>Ramicane</td>\n",
       "      <td>Male</td>\n",
       "      <td>21</td>\n",
       "      <td>16</td>\n",
       "      <td>15</td>\n",
       "      <td>34.223992</td>\n",
       "      <td>1</td>\n",
       "    </tr>\n",
       "    <tr>\n",
       "      <th>4</th>\n",
       "      <td>k403</td>\n",
       "      <td>Ramicane</td>\n",
       "      <td>Male</td>\n",
       "      <td>21</td>\n",
       "      <td>16</td>\n",
       "      <td>20</td>\n",
       "      <td>32.997729</td>\n",
       "      <td>1</td>\n",
       "    </tr>\n",
       "    <tr>\n",
       "      <th>...</th>\n",
       "      <td>...</td>\n",
       "      <td>...</td>\n",
       "      <td>...</td>\n",
       "      <td>...</td>\n",
       "      <td>...</td>\n",
       "      <td>...</td>\n",
       "      <td>...</td>\n",
       "      <td>...</td>\n",
       "    </tr>\n",
       "    <tr>\n",
       "      <th>1875</th>\n",
       "      <td>z969</td>\n",
       "      <td>Naftisol</td>\n",
       "      <td>Male</td>\n",
       "      <td>9</td>\n",
       "      <td>30</td>\n",
       "      <td>25</td>\n",
       "      <td>63.145652</td>\n",
       "      <td>2</td>\n",
       "    </tr>\n",
       "    <tr>\n",
       "      <th>1876</th>\n",
       "      <td>z969</td>\n",
       "      <td>Naftisol</td>\n",
       "      <td>Male</td>\n",
       "      <td>9</td>\n",
       "      <td>30</td>\n",
       "      <td>30</td>\n",
       "      <td>65.841013</td>\n",
       "      <td>3</td>\n",
       "    </tr>\n",
       "    <tr>\n",
       "      <th>1877</th>\n",
       "      <td>z969</td>\n",
       "      <td>Naftisol</td>\n",
       "      <td>Male</td>\n",
       "      <td>9</td>\n",
       "      <td>30</td>\n",
       "      <td>35</td>\n",
       "      <td>69.176246</td>\n",
       "      <td>4</td>\n",
       "    </tr>\n",
       "    <tr>\n",
       "      <th>1878</th>\n",
       "      <td>z969</td>\n",
       "      <td>Naftisol</td>\n",
       "      <td>Male</td>\n",
       "      <td>9</td>\n",
       "      <td>30</td>\n",
       "      <td>40</td>\n",
       "      <td>70.314904</td>\n",
       "      <td>4</td>\n",
       "    </tr>\n",
       "    <tr>\n",
       "      <th>1879</th>\n",
       "      <td>z969</td>\n",
       "      <td>Naftisol</td>\n",
       "      <td>Male</td>\n",
       "      <td>9</td>\n",
       "      <td>30</td>\n",
       "      <td>45</td>\n",
       "      <td>73.867845</td>\n",
       "      <td>4</td>\n",
       "    </tr>\n",
       "  </tbody>\n",
       "</table>\n",
       "<p>1880 rows × 8 columns</p>\n",
       "</div>"
      ],
      "text/plain": [
       "     Mouse ID Drug Regimen   Sex  Age_months  Weight (g)  Timepoint  \\\n",
       "0        k403     Ramicane  Male          21          16          0   \n",
       "1        k403     Ramicane  Male          21          16          5   \n",
       "2        k403     Ramicane  Male          21          16         10   \n",
       "3        k403     Ramicane  Male          21          16         15   \n",
       "4        k403     Ramicane  Male          21          16         20   \n",
       "...       ...          ...   ...         ...         ...        ...   \n",
       "1875     z969     Naftisol  Male           9          30         25   \n",
       "1876     z969     Naftisol  Male           9          30         30   \n",
       "1877     z969     Naftisol  Male           9          30         35   \n",
       "1878     z969     Naftisol  Male           9          30         40   \n",
       "1879     z969     Naftisol  Male           9          30         45   \n",
       "\n",
       "      Tumour Volume (mm3)  Metastatic Sites  \n",
       "0               45.000000                 0  \n",
       "1               38.825898                 0  \n",
       "2               35.014271                 1  \n",
       "3               34.223992                 1  \n",
       "4               32.997729                 1  \n",
       "...                   ...               ...  \n",
       "1875            63.145652                 2  \n",
       "1876            65.841013                 3  \n",
       "1877            69.176246                 4  \n",
       "1878            70.314904                 4  \n",
       "1879            73.867845                 4  \n",
       "\n",
       "[1880 rows x 8 columns]"
      ]
     },
     "execution_count": 9,
     "metadata": {},
     "output_type": "execute_result"
    }
   ],
   "source": [
    "# Create a clean DataFrame by dropping the duplicate mouse by its ID\n",
    "combined_clean_results_df = combined_results_df.set_index(\"Mouse ID\").drop(index=(duplicate_ID)).reset_index()\n",
    "combined_clean_results_df"
   ]
  },
  {
   "cell_type": "code",
   "execution_count": 10,
   "metadata": {},
   "outputs": [
    {
     "name": "stdout",
     "output_type": "stream",
     "text": [
      "Analysis based on clean dataset of : 248 mice\n"
     ]
    }
   ],
   "source": [
    "# Checking the number of mice in the clean DataFrame\n",
    "number_mice_clean = len(combined_clean_results_df[\"Mouse ID\"].unique())\n",
    "print(f\"Analysis based on clean dataset of : {number_mice_clean} mice\")"
   ]
  },
  {
   "cell_type": "markdown",
   "metadata": {},
   "source": [
    "## Summary Statistics"
   ]
  },
  {
   "cell_type": "code",
   "execution_count": 40,
   "metadata": {},
   "outputs": [
    {
     "name": "stdout",
     "output_type": "stream",
     "text": [
      "               Mean  Median    Var   Std   SEM\n",
      "Drug Regimen                                  \n",
      "Capomulin     40.68   41.56  24.95  4.99  0.33\n",
      "Ceftamin      52.59   51.78  39.29  6.27  0.47\n",
      "Infubinol     52.88   51.82  43.13  6.57  0.49\n",
      "Ketapril      55.24   53.70  68.55  8.28  0.60\n",
      "Naftisol      54.33   52.51  66.17  8.13  0.60\n",
      "Placebo       54.03   52.29  61.17  7.82  0.58\n",
      "Propriva      52.32   50.45  43.85  6.62  0.54\n",
      "Ramicane      40.22   40.67  23.49  4.85  0.32\n",
      "Stelasyn      54.23   52.43  59.45  7.71  0.57\n",
      "Zoniferol     53.24   51.82  48.53  6.97  0.52\n",
      "\n",
      "Note - Statistics as presented apply to mice tumour volumes.    \n",
      "Units are:    \n",
      "Mean: mm3    \n",
      "Median: mm3    \n",
      "Variance: mm3 squared    \n",
      "Standard Deviation: mm3    \n",
      "Std Error of the mean: mm3\n"
     ]
    }
   ],
   "source": [
    "# Generate a summary statistics table of mean, median, variance, standard deviation, and SEM of the tumour volume for each regimen\n",
    "# Use groupby and summary statistical methods to calculate the following properties of each drug regimen: \n",
    "# mean, median, variance, standard deviation, and SEM of the tumour volume.\n",
    "# Assemble the resulting series into a single summary dataframe\n",
    "\n",
    "# Groupby drug regimen to calculate statistics\n",
    "drug_regimen_gr = combined_clean_results_df.groupby(\"Drug Regimen\")\n",
    "\n",
    "# Calculate statistics\n",
    "tumour_mean = drug_regimen_gr[\"Tumour Volume (mm3)\"].mean()\n",
    "tumour_median = drug_regimen_gr[\"Tumour Volume (mm3)\"].median()\n",
    "tumour_var = drug_regimen_gr[\"Tumour Volume (mm3)\"].var()\n",
    "tumour_sd = drug_regimen_gr[\"Tumour Volume (mm3)\"].std()\n",
    "tumour_sem = drug_regimen_gr[\"Tumour Volume (mm3)\"].sem()\n",
    "\n",
    "# Create dict with clear headers and statistics combined \n",
    "tumour_vol_results = {\n",
    "    \"Mean\": tumour_mean.round(2),\n",
    "    \"Median\": tumour_median.round(2),\n",
    "    \"Var\": tumour_var.round(2),\n",
    "    \"Std\": tumour_sd.round(2),\n",
    "    \"SEM\": tumour_sem.round(2)\n",
    "}\n",
    "\n",
    "# Create dataframe with results, output statistics with footnote\n",
    "tumour_vol_results_df = pd.DataFrame(tumour_vol_results)\n",
    "print(tumour_vol_results_df)\n",
    "print(\"\\nNote - Statistics as presented apply to mice tumour volumes.\\\n",
    "    \\nUnits are:\\\n",
    "    \\nMean: mm3\\\n",
    "    \\nMedian: mm3\\\n",
    "    \\nVariance: mm3 squared\\\n",
    "    \\nStandard Deviation: mm3\\\n",
    "    \\nStd Error of the mean: mm3\")"
   ]
  },
  {
   "cell_type": "code",
   "execution_count": 58,
   "metadata": {},
   "outputs": [
    {
     "name": "stdout",
     "output_type": "stream",
     "text": [
      "              Tumour_Mean  Tumour_Median  Tumour_Var  Tumour_SD  Tumour_SEM\n",
      "Drug Regimen                                                               \n",
      "Capomulin           40.68          41.56       24.95       4.99        0.33\n",
      "Ceftamin            52.59          51.78       39.29       6.27        0.47\n",
      "Infubinol           52.88          51.82       43.13       6.57        0.49\n",
      "Ketapril            55.24          53.70       68.55       8.28        0.60\n",
      "Naftisol            54.33          52.51       66.17       8.13        0.60\n",
      "Placebo             54.03          52.29       61.17       7.82        0.58\n",
      "Propriva            52.32          50.45       43.85       6.62        0.54\n",
      "Ramicane            40.22          40.67       23.49       4.85        0.32\n",
      "Stelasyn            54.23          52.43       59.45       7.71        0.57\n",
      "Zoniferol           53.24          51.82       48.53       6.97        0.52\n"
     ]
    }
   ],
   "source": [
    "# Generate a summary statistics table of mean, median, variance, standard deviation, and SEM of the tumour volume for each regimen\n",
    "# Using the aggregation method, produce the same summary statistics in a single line\n",
    "\n",
    "# Altenative approach to generating statistics and combinig results using aggregate method\n",
    "tumour_vol_results = combined_clean_results_df.groupby(\"Drug Regimen\").agg(\\\n",
    "        Tumour_Mean = (\"Tumour Volume (mm3)\", np.mean),\n",
    "        Tumour_Median = (\"Tumour Volume (mm3)\", np.median),\n",
    "        Tumour_Var = (\"Tumour Volume (mm3)\", np.var),\n",
    "        Tumour_SD = (\"Tumour Volume (mm3)\", np.std),\n",
    "        Tumour_SEM = (\"Tumour Volume (mm3)\", st.sem)\n",
    ").round(2)\n",
    "\n",
    "# Create dataframe with results, output statistics\n",
    "tumour_vol_results_df = pd.DataFrame(tumour_vol_results)\n",
    "print(tumour_vol_results_df)"
   ]
  },
  {
   "cell_type": "markdown",
   "metadata": {},
   "source": [
    "## Bar and Pie Charts"
   ]
  },
  {
   "cell_type": "code",
   "execution_count": 142,
   "metadata": {},
   "outputs": [
    {
     "data": {
      "text/plain": [
       "<matplotlib.legend.Legend at 0x7fb2b924c5d0>"
      ]
     },
     "execution_count": 142,
     "metadata": {},
     "output_type": "execute_result"
    },
    {
     "data": {
      "image/png": "[encoded data removed]",
      "text/plain": [
       "<Figure size 504x576 with 1 Axes>"
      ]
     },
     "metadata": {
      "needs_background": "light"
     },
     "output_type": "display_data"
    }
   ],
   "source": [
    "# Generate a bar plot showing the total number of timepoints for all mice tested for each drug regimen using Pandas\n",
    "\n",
    "# Group plot data in a dataframe for printing\n",
    "barchart_count_data = combined_clean_results_df[[\"Drug Regimen\", \"Timepoint\"]]\\\n",
    "    .groupby(\"Drug Regimen\")\\\n",
    "    .count()\\\n",
    "    .reset_index()\\\n",
    "    .sort_values(\"Timepoint\", ascending=True)\n",
    "\n",
    "# Plot bar chart using Pandas    \n",
    "barchart_count_data.plot(\"Drug Regimen\", \"Timepoint\",\n",
    "    kind='barh',\n",
    "    figsize=(7,8),\n",
    "    rot=0,\n",
    "    color='w',\n",
    "    edgecolor=\"grey\",\n",
    "    hatch='xxxx',\n",
    "    label=\"Timpoints (#)\",\n",
    "    title='Number of Timepoints\\nper Drug Regimen\\n')\n",
    "\n",
    "plt.xlabel(\"\\nNumber of Timepoints (#)\")\n",
    "plt.legend(\"\")\n"
   ]
  },
  {
   "cell_type": "code",
   "execution_count": 134,
   "metadata": {},
   "outputs": [
    {
     "data": {
      "image/png": "[encoded data removed]",
      "text/plain": [
       "<Figure size 504x576 with 1 Axes>"
      ]
     },
     "metadata": {
      "needs_background": "light"
     },
     "output_type": "display_data"
    }
   ],
   "source": [
    "# Generate a bar plot showing the total number of timepoints for all mice tested for each drug regimen using pyplot\n",
    "\n",
    "# Group plot data in a dataframe for printing, create list for x,y data\n",
    "count_results = combined_clean_results_df.groupby(\"Drug Regimen\").count().reset_index().sort_values(\"Timepoint\")\n",
    "regimen = list(count_results[\"Drug Regimen\"])\n",
    "timepoint = list(count_results[\"Timepoint\"])\n",
    "\n",
    "# Plot bar chart using pyplot \n",
    "fig1, ax = plt.subplots(figsize=(7,8))\n",
    "hbars = ax.barh(regimen, timepoint, align=\"center\", color=\"white\", edgecolor=\"grey\", hatch=\"xxx\", alpha=1)\n",
    "ax.set_xlabel('\\nNumber of Timepoints (#)')\n",
    "ax.set_ylabel('Drug Regimen')\n",
    "ax.set_title('Number of Timepoints\\nper Drug Regimen \\n')\n",
    "\n",
    "plt.show()"
   ]
  },
  {
   "cell_type": "code",
   "execution_count": 149,
   "metadata": {},
   "outputs": [
    {
     "data": {
      "text/plain": [
       "<AxesSubplot:title={'center':'Distribution of Female vs Male Mice \\n (N = 248)'}>"
      ]
     },
     "execution_count": 149,
     "metadata": {},
     "output_type": "execute_result"
    },
    {
     "data": {
      "image/png": "[encoded data removed]",
      "text/plain": [
       "<Figure size 360x360 with 1 Axes>"
      ]
     },
     "metadata": {},
     "output_type": "display_data"
    }
   ],
   "source": [
    "# Generate a pie plot showing the distribution of female versus male mice using Pandas\n",
    "\n",
    "# Prepare data for charting, count mice in dataset\n",
    "piechart_sex_data = combined_clean_results_df[[\"Sex\", \"Mouse ID\"]].drop_duplicates().groupby([\"Sex\"]).count()\n",
    "N = piechart_sex_data[\"Mouse ID\"].sum()\n",
    "\n",
    "# Plot data in pie chart using Pandas\n",
    "piechart_sex_data.plot(\n",
    "        kind=\"pie\",\n",
    "        y=\"Mouse ID\", \n",
    "        label=\"\",\n",
    "        legend=\"\",\n",
    "        autopct=\"%1.2f%%\", \n",
    "        colors=[\"#FFCC99\",\"#99CCFF\"],\n",
    "        figsize=(5,5), startangle=90,\n",
    "        title=f\"Distribution of Female vs Male Mice \\n (N = {N})\")"
   ]
  },
  {
   "cell_type": "code",
   "execution_count": 150,
   "metadata": {},
   "outputs": [
    {
     "data": {
      "image/png": "[encoded data removed]",
      "text/plain": [
       "<Figure size 360x360 with 1 Axes>"
      ]
     },
     "metadata": {},
     "output_type": "display_data"
    }
   ],
   "source": [
    "# Generate a pie plot showing the distribution of female versus male mice using pyplot\n",
    "\n",
    "# Prepare data for charting, count mice in dataset\n",
    "count_sex = combined_clean_results_df[[\"Sex\", \"Mouse ID\"]].drop_duplicates().groupby([\"Sex\"]).count().reset_index()\n",
    "sex = list(count_sex[\"Sex\"])\n",
    "mouse_id = list(count_sex[\"Mouse ID\"])\n",
    "N = count_sex[\"Mouse ID\"].sum()\n",
    "\n",
    "# Set title format by parameter, in case formatting changes are required\n",
    "title_font = {'fontname':'Verdana', 'size':'14', 'color':'black', 'weight':'normal',\n",
    "              'verticalalignment':'bottom'}\n",
    "\n",
    "# Plot data in pie chart using pyplot\n",
    "fig, ax = plt.subplots(figsize=(5,5))\n",
    "wedges = plt.pie(\n",
    "        mouse_id,\n",
    "        labels=sex,\n",
    "        autopct=\"%1.2f%%\",\n",
    "        colors=[\"#FFCC99\",\"#99CCFF\"],\n",
    "        startangle=90) \n",
    "plt.title(f\"Distribution of Female vs Male Mice \\n (N = {N})\", **title_font)\n",
    "plt.rc(\"font\", size=12)\n",
    "\n",
    "plt.show()"
   ]
  },
  {
   "cell_type": "markdown",
   "metadata": {},
   "source": [
    "## Quartiles, Outliers and Boxplots"
   ]
  },
  {
   "cell_type": "code",
   "execution_count": 166,
   "metadata": {},
   "outputs": [],
   "source": [
    "# Calculate the final tumor volume of each mouse across four of the treatment regimens:  \n",
    "# Capomulin, Ramicane, Infubinol, and Ceftamin\n",
    "\n",
    "# Extracts the last (greatest) timepoint for each mouse\n",
    "tumour_vol_list = combined_clean_results_df.groupby(\"Mouse ID\").max().reset_index()\n"
   ]
  },
  {
   "cell_type": "code",
   "execution_count": 164,
   "metadata": {},
   "outputs": [],
   "source": [
    "# Put treatments into a list for for loop (and later for plot labels)\n",
    "treatment_list = combined_clean_results_df[\"Drug Regimen\"].unique()\n",
    "\n",
    "treatment_selected = [\n",
    "    treatment_list[1], \n",
    "    treatment_list[0], \n",
    "    treatment_list[2], \n",
    "    treatment_list[4]]\n",
    "\n",
    "treatment_selected_ser = pd.Series(treatment_selected)\n"
   ]
  },
  {
   "cell_type": "code",
   "execution_count": 186,
   "metadata": {},
   "outputs": [
    {
     "name": "stdout",
     "output_type": "stream",
     "text": [
      "The lower quartile of tumour volume (mm3) is: 45.5\n",
      "The upper quartile of tumour volume (mm3) is: 59.9\n",
      "The interquartile range of tumour volume (mm3) is: 14.4\n",
      "The the median of tumour volume (mm3) is: 46.9 \n",
      "Values below 23.9 could be outliers\n",
      "Values above 81.6 could be outliers\n",
      "\n",
      "Smallest final tumour volume (mm3) is 45.0\n",
      "Largest final tumour volume (mm3) is 72.2\n"
     ]
    }
   ],
   "source": [
    "# Create empty list to fill with tumour vol data (for plotting)\n",
    "mouse_id_list = []\n",
    "drug_regimen_list = []\n",
    "tumour_select_list = []\n",
    "\n",
    "# Locate the rows which contain mice on each drug and get the tumour volumes\n",
    "index = 0\n",
    "for index in range(len(tumour_vol_list.index)):\n",
    "    if tumour_vol_list.iloc[index,1] in treatment_selected_ser.values:\n",
    "        mouse_id_list.append(tumour_vol_list.iloc[index,0])\n",
    "        drug_regimen_list.append(tumour_vol_list.iloc[index,1])\n",
    "        tumour_select_list.append(tumour_vol_list.iloc[index,6])\n",
    "\n",
    "selected_tumour_vol_df = pd.DataFrame({\n",
    "    \"Mouse ID\" :mouse_id_list,\n",
    "    \"Drug Regimen\" : drug_regimen_list,\n",
    "    \"Tumour Vol (mm3)\" : tumour_select_list})\n",
    "\n",
    "# Calculate the IQR and quantitatively determine if there are any potential outliers\n",
    "quartiles = selected_tumour_vol_df[\"Tumour Vol (mm3)\"].quantile([.25,.5,.75])\n",
    "lowerq = quartiles[0.25]\n",
    "upperq = quartiles[0.75]\n",
    "iqr = upperq-lowerq\n",
    "\n",
    "print(f\"The lower quartile of tumour volume (mm3) is: {lowerq:.1f}\")\n",
    "print(f\"The upper quartile of tumour volume (mm3) is: {upperq:.1f}\")\n",
    "print(f\"The interquartile range of tumour volume (mm3) is: {iqr:.1f}\")\n",
    "print(f\"The the median of tumour volume (mm3) is: {quartiles[0.5]:.1f} \")\n",
    "\n",
    "lower_bound = lowerq - (1.5*iqr)\n",
    "upper_bound = upperq + (1.5*iqr)\n",
    "print(f\"Values below {lower_bound:.1f} could be outliers\")\n",
    "print(f\"Values above {upper_bound:.1f} could be outliers\")\n",
    "\n",
    "outlier_tumor_vol = selected_tumour_vol_df.loc[\\\n",
    "    (selected_tumour_vol_df['Tumour Vol (mm3)'] < lower_bound) |\\\n",
    "    (selected_tumour_vol_df['Tumour Vol (mm3)'] > upper_bound)]\n",
    "\n",
    "min = selected_tumour_vol_df[\"Tumour Vol (mm3)\"].min()\n",
    "max = selected_tumour_vol_df[\"Tumour Vol (mm3)\"].max()\n",
    "\n",
    "print(f\"\\nSmallest final tumour volume (mm3) is {min:.1f}\\nLargest final tumour volume (mm3) is {max:.1f}\")"
   ]
  },
  {
   "cell_type": "code",
   "execution_count": 187,
   "metadata": {},
   "outputs": [
    {
     "data": {
      "image/png": "[encoded data removed]",
      "text/plain": [
       "<Figure size 864x360 with 4 Axes>"
      ]
     },
     "metadata": {
      "needs_background": "light"
     },
     "output_type": "display_data"
    }
   ],
   "source": [
    "# Generate a box plot of the final tumour volume of each mouse across four regimens of interest\n",
    "tumour_vol_1 = selected_tumour_vol_df.loc[selected_tumour_vol_df[\"Drug Regimen\"]==\\\n",
    "    treatment_selected_ser[0],[\"Tumour Vol (mm3)\"]]\n",
    "tumour_vol_2 = selected_tumour_vol_df.loc[selected_tumour_vol_df[\"Drug Regimen\"]==\\\n",
    "    treatment_selected_ser[1],[\"Tumour Vol (mm3)\"]]\n",
    "tumour_vol_3 = selected_tumour_vol_df.loc[selected_tumour_vol_df[\"Drug Regimen\"]==\\\n",
    "    treatment_selected_ser[2],[\"Tumour Vol (mm3)\"]]\n",
    "tumour_vol_4 = selected_tumour_vol_df.loc[selected_tumour_vol_df[\"Drug Regimen\"]==\\\n",
    "    treatment_selected_ser[3],[\"Tumour Vol (mm3)\"]]\n",
    "\n",
    "fig2, (ax1, ax2, ax3, ax4) = plt.subplots(1, 4, sharey=True, figsize=(12,5))\n",
    "fig2.suptitle('Mice Tumour Volume for Selected Drug Regimen\\n')\n",
    "\n",
    "ax1.boxplot(tumour_vol_1[\"Tumour Vol (mm3)\"])\n",
    "ax2.boxplot(tumour_vol_2[\"Tumour Vol (mm3)\"])\n",
    "ax3.boxplot(tumour_vol_3[\"Tumour Vol (mm3)\"])\n",
    "ax4.boxplot(tumour_vol_4[\"Tumour Vol (mm3)\"])\n",
    "\n",
    "N1 = len(tumour_vol_1[\"Tumour Vol (mm3)\"])\n",
    "N2 = len(tumour_vol_2[\"Tumour Vol (mm3)\"])\n",
    "N3 = len(tumour_vol_3[\"Tumour Vol (mm3)\"])\n",
    "N4 = len(tumour_vol_4[\"Tumour Vol (mm3)\"])\n",
    "\n",
    "ax1.set_ylabel('Final Tumour Volume (mm3)')\n",
    "\n",
    "ax1.set_title(f\"{treatment_selected_ser[0]} (N={N1})\")\n",
    "ax2.set_title(f\"{treatment_selected_ser[1]} (N={N2})\")\n",
    "ax3.set_title(f\"{treatment_selected_ser[2]} (N={N3})\")\n",
    "ax4.set_title(f\"{treatment_selected_ser[3]} (N={N4})\")\n",
    "\n",
    "plt.show()"
   ]
  },
  {
   "cell_type": "markdown",
   "metadata": {},
   "source": [
    "## Line and Scatter Plots"
   ]
  },
  {
   "cell_type": "code",
   "execution_count": 192,
   "metadata": {},
   "outputs": [
    {
     "data": {
      "image/png": "[encoded data removed]",
      "text/plain": [
       "<Figure size 432x288 with 1 Axes>"
      ]
     },
     "metadata": {
      "needs_background": "light"
     },
     "output_type": "display_data"
    }
   ],
   "source": [
    "# Generate a line plot of tumour volume vs. time point for a mouse treated with Capomulin\n",
    "selected_mouse = \"b128\"\n",
    "selected_mouse_data = combined_clean_results_df.loc[combined_clean_results_df[\"Mouse ID\"]==selected_mouse,:]\n",
    "\n",
    "x_axis = selected_mouse_data[\"Timepoint\"]\n",
    "y_axis = selected_mouse_data[\"Tumour Volume (mm3)\"]\n",
    "\n",
    "plt.title(f\"Tumour Volume vs Timepoint\\nfor Mouse: {selected_mouse}\\n\")\n",
    "plt.xlabel(\"Time Point (days)\")\n",
    "plt.ylabel(\"Tumor Volume (mm3)\")\n",
    "\n",
    "plt.xlim(0-2, 45+2)\n",
    "plt.ylim(selected_mouse_data[\"Tumour Volume (mm3)\"].min()-2, selected_mouse_data[\"Tumour Volume (mm3)\"].max()+2)\n",
    "\n",
    "plt.plot(x_axis, y_axis, marker=\"o\", color=\"blue\", linewidth=1)\n",
    "plt.show()"
   ]
  },
  {
   "cell_type": "code",
   "execution_count": 197,
   "metadata": {},
   "outputs": [
    {
     "data": {
      "image/png": "[encoded data removed]",
      "text/plain": [
       "<Figure size 432x288 with 1 Axes>"
      ]
     },
     "metadata": {
      "needs_background": "light"
     },
     "output_type": "display_data"
    }
   ],
   "source": [
    "# Generate a scatter plot of average tumour volume vs. mouse weight for the Capomulin regimen\n",
    "selected_regimen = \"Capomulin\"\n",
    "selected_regimen_data = combined_clean_results_df.loc[combined_clean_results_df[\"Drug Regimen\"]==selected_regimen,:]\n",
    "selected_reg_avgs = selected_regimen_data.groupby([\"Mouse ID\"]).mean().reset_index()\n",
    "\n",
    "x_axis = selected_reg_avgs[\"Weight (g)\"]\n",
    "y_axis = selected_reg_avgs[\"Tumour Volume (mm3)\"]\n",
    "\n",
    "plt.title(\"Tumour Volume vs Mouse Weight\\nfor Capomulin Regimen\\n\")\n",
    "plt.xlabel(\"Weight (g)\")\n",
    "plt.ylabel(\"Tumour Volume (mm3)\")\n",
    "\n",
    "plt.scatter(x_axis, y_axis, marker=\"o\", color=\"b\")\n",
    "plt.show()"
   ]
  },
  {
   "cell_type": "markdown",
   "metadata": {},
   "source": [
    "## Correlation and Regression"
   ]
  },
  {
   "cell_type": "code",
   "execution_count": 199,
   "metadata": {},
   "outputs": [
    {
     "name": "stdout",
     "output_type": "stream",
     "text": [
      "The r-squared is: 0.7088568047708721\n"
     ]
    },
    {
     "data": {
      "image/png": "[encoded data removed]",
      "text/plain": [
       "<Figure size 432x288 with 1 Axes>"
      ]
     },
     "metadata": {
      "needs_background": "light"
     },
     "output_type": "display_data"
    }
   ],
   "source": [
    "# Calculate the correlation coefficient and linear regression model \n",
    "# for mouse weight and average tumour volume for the Capomulin regimen\n",
    "\n",
    "(slope, intercept, rvalue, pvalue, stderr) = st.linregress(x_axis, y_axis)\n",
    "regress_values = x_axis * slope + intercept\n",
    "line_eq = \"y = \" + str(round(slope,2)) + \"x + \" + str(round(intercept,2))\n",
    "\n",
    "plt.title(\"Regression Model\\nfor Tumour Volume vs Mouse Weight\\nfor Capomulin Regimen\\n\")\n",
    "plt.xlabel(\"Weight (g)\")\n",
    "plt.ylabel(\"Tumour Volume (mm3)\")\n",
    "plt.scatter(x_axis,y_axis, color=\"b\")\n",
    "\n",
    "plt.plot(x_axis,regress_values,\"r-\")\n",
    "plt.annotate(line_eq,(20,36),fontsize=12,color=\"r\")\n",
    "\n",
    "print(f\"The r-squared is: {rvalue**2}\")\n",
    "\n",
    "plt.show()"
   ]
  }
 ],
 "metadata": {
  "anaconda-cloud": {},
  "kernelspec": {
   "display_name": "PythonData",
   "language": "python",
   "name": "python3"
  },
  "language_info": {
   "codemirror_mode": {
    "name": "ipython",
    "version": 3
   },
   "file_extension": ".py",
   "mimetype": "text/x-python",
   "name": "python",
   "nbconvert_exporter": "python",
   "pygments_lexer": "ipython3",
   "version": "3.7.7"
  },
  "vscode": {
   "interpreter": {
    "hash": "4c976a1b9d2c923b621593b0d486284bf9c85301f8d1680dda203578917d80a9"
   }
  }
 },
 "nbformat": 4,
 "nbformat_minor": 4
}
